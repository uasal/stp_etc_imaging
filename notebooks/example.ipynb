{
 "cells": [
  {
   "cell_type": "markdown",
   "metadata": {},
   "source": [
    "# Example for usage of tools and configurations\n",
    "This notebook is an example of how simulation tools, configurations, and reporting can be done harmoniously if a common structure is established. <br>\n",
    "Note that this structure is commonly seen among large software teams that are constantly co-developing and producing/maintaining production code. <br>\n",
    "\n",
    "**This notebook represents a report that could be the artifact of an analysis informing science impact of a given parameter.**"
   ]
  },
  {
   "cell_type": "markdown",
   "metadata": {
    "vscode": {
     "languageId": "plaintext"
    }
   },
   "source": [
    "## Load dependencies"
   ]
  },
  {
   "cell_type": "code",
   "execution_count": null,
   "metadata": {},
   "outputs": [],
   "source": [
    "# load dependencies for this report\n",
    "import pathlib\n",
    "import tomlkit\n",
    "import git\n",
    "import matplotlib.pyplot as plt\n",
    "\n",
    "from utils_config import ConfigLoader  # Used to load and parse configs"
   ]
  },
  {
   "cell_type": "markdown",
   "metadata": {},
   "source": [
    "## Import simulation Tool(s)"
   ]
  },
  {
   "cell_type": "code",
   "execution_count": null,
   "metadata": {},
   "outputs": [],
   "source": [
    "import example_tool"
   ]
  },
  {
   "cell_type": "markdown",
   "metadata": {},
   "source": [
    "Display the git hash being executed so there is traceability for reproducing the result in the future. <br>\n",
    "If it was a proper package, then one would just run the following: <br>\n",
    "`print example_tool.__version__` <br>\n",
    "Because this is an example a local file is used, so in this case we'll show the current git hash.\n"
   ]
  },
  {
   "cell_type": "code",
   "execution_count": null,
   "metadata": {},
   "outputs": [],
   "source": [
    "path_to_example_tool=pathlib.Path('.') \n",
    "repo = git.Repo(path_to_example_tool,search_parent_directories=True)\n",
    "print(f'Repo located at: {repo.common_dir}')\n",
    "print(f'Has the repo been modified? {repo.is_dirty()}')\n",
    "print(f'Repo is at commit: {repo.commit()}')\n",
    "print(f'Active branch is: {repo.active_branch}')"
   ]
  },
  {
   "cell_type": "markdown",
   "metadata": {},
   "source": [
    "## Load the configuration(s)\n",
    "Configurations are be stored in external packages so everyone can access them. They can also be used by CI processes that can automatically generate new reports or values and perform analyses when changes to inputs are performed.<br>\n",
    "Configurations could be stored inside packages (which can be imported) or potentially as cloned repositories. <br>\n",
    "The case below imports the configs as python packages, which have been cloned and pip installed."
   ]
  },
  {
   "cell_type": "code",
   "execution_count": null,
   "metadata": {},
   "outputs": [],
   "source": [
    "import config_project_template\n",
    "\n",
    "data=config_project_template.load_config_values('unitless')\n",
    "print(data)\n"
   ]
  },
  {
   "cell_type": "markdown",
   "metadata": {},
   "source": [
    "We can also import other configurations and draw from them"
   ]
  },
  {
   "cell_type": "code",
   "execution_count": null,
   "metadata": {},
   "outputs": [],
   "source": [
    "import config_stp\n",
    "data_stp = config_stp.load_config_values('unitless')"
   ]
  },
  {
   "cell_type": "markdown",
   "metadata": {},
   "source": [
    "The installed version of the package can be found by printing the version.<br>\n",
    "Having these displayed in the analysis report aids in the reproduction of the results at future times."
   ]
  },
  {
   "cell_type": "code",
   "execution_count": null,
   "metadata": {},
   "outputs": [],
   "source": [
    "print(f'{config_project_template.__version__=}')\n",
    "print(f'{config_stp.__version__=}')"
   ]
  },
  {
   "cell_type": "markdown",
   "metadata": {},
   "source": [
    "## Begin Analysis"
   ]
  },
  {
   "cell_type": "markdown",
   "metadata": {},
   "source": [
    "In this case, we consider the example where we want to iterate over a configuration value and examine the result<br>\n",
    "In this example let's consider changing the slew speed and we'll run that through our analysis tool see how that affects how long to get to and acquire a target."
   ]
  },
  {
   "cell_type": "code",
   "execution_count": null,
   "metadata": {},
   "outputs": [],
   "source": [
    "print(f'The baseline slew speed is {data_stp[\"observatory\"][\"motion\"][\"slew_avg_speed\"]}')\n",
    "\n",
    "speeds = [0.1,0.2,0.5,0.6,0.8,1,2,4,6,10] # [Celsius]\n",
    "\n",
    "slew_distance = 50 # degrees\n"
   ]
  },
  {
   "cell_type": "markdown",
   "metadata": {},
   "source": [
    "Instantiate example tool class"
   ]
  },
  {
   "cell_type": "code",
   "execution_count": null,
   "metadata": {},
   "outputs": [],
   "source": [
    "example_class=example_tool.exampleTool()"
   ]
  },
  {
   "cell_type": "markdown",
   "metadata": {},
   "source": [
    "Loop over the variable being iterated upon and modify the configuration locally"
   ]
  },
  {
   "cell_type": "code",
   "execution_count": null,
   "metadata": {},
   "outputs": [],
   "source": [
    "results={'speed':[],'sim_results':[],'config':[]}\n",
    "for s in speeds:\n",
    "    data_stp[\"observatory\"][\"motion\"][\"slew_avg_speed\"]=s\n",
    "    run_result = example_class.run_sim(slew_distance,config=data_stp)\n",
    "    results['config'].append(data_stp)\n",
    "    results['speed'].append(s)\n",
    "    results['sim_results'].append(run_result)"
   ]
  },
  {
   "cell_type": "markdown",
   "metadata": {},
   "source": [
    "## Perform some analysis\n",
    "For example, one could make a plot and look at the results"
   ]
  },
  {
   "cell_type": "code",
   "execution_count": null,
   "metadata": {},
   "outputs": [],
   "source": [
    "x=results['speed']\n",
    "y=results[\"sim_results\"]\n",
    "plt.plot(x,y,'x')\n",
    "plt.ylabel('time to target [s]')\n",
    "plt.xlabel('slew speed [deg/s]')"
   ]
  },
  {
   "cell_type": "markdown",
   "metadata": {},
   "source": [
    "## Report the take-home points in an obvious manner"
   ]
  },
  {
   "cell_type": "code",
   "execution_count": null,
   "metadata": {},
   "outputs": [],
   "source": [
    "print(f\"The  acquisition overhead starts to dominate over slew speeds when the speed is ~1.5 degrees per second\")"
   ]
  },
  {
   "cell_type": "code",
   "execution_count": null,
   "metadata": {},
   "outputs": [],
   "source": []
  }
 ],
 "metadata": {
  "kernelspec": {
   "display_name": "bending",
   "language": "python",
   "name": "python3"
  },
  "language_info": {
   "codemirror_mode": {
    "name": "ipython",
    "version": 3
   },
   "file_extension": ".py",
   "mimetype": "text/x-python",
   "name": "python",
   "nbconvert_exporter": "python",
   "pygments_lexer": "ipython3",
   "version": "3.12.7"
  }
 },
 "nbformat": 4,
 "nbformat_minor": 4
}
